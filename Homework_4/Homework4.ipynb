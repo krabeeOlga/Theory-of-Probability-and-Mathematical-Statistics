{
 "cells": [
  {
   "cell_type": "code",
   "execution_count": 1,
   "id": "63a54bfa",
   "metadata": {},
   "outputs": [],
   "source": [
    "# Задача 1. Случайная непрерывная величина A имеет равномерное распределение на\n",
    "# промежутке (200, 800]. \n",
    "# Найдите ее среднее значение и дисперсию."
   ]
  },
  {
   "cell_type": "code",
   "execution_count": 27,
   "id": "66710659",
   "metadata": {},
   "outputs": [],
   "source": [
    "from scipy import stats\n",
    "import math"
   ]
  },
  {
   "cell_type": "code",
   "execution_count": 28,
   "id": "2291afad",
   "metadata": {},
   "outputs": [
    {
     "data": {
      "text/plain": [
       "500.0"
      ]
     },
     "execution_count": 28,
     "metadata": {},
     "output_type": "execute_result"
    }
   ],
   "source": [
    "a = 200\n",
    "b = 800\n",
    "\n",
    "# среднее значение\n",
    "stats.uniform.mean(loc=a, scale=b-a)  "
   ]
  },
  {
   "cell_type": "code",
   "execution_count": 29,
   "id": "8fa1b7f8",
   "metadata": {},
   "outputs": [
    {
     "data": {
      "text/plain": [
       "30000.0"
      ]
     },
     "execution_count": 29,
     "metadata": {},
     "output_type": "execute_result"
    }
   ],
   "source": [
    "# дисперсия\n",
    "stats.uniform.var(loc=a, scale=b-a)   "
   ]
  },
  {
   "cell_type": "code",
   "execution_count": null,
   "id": "8f709450",
   "metadata": {},
   "outputs": [],
   "source": []
  },
  {
   "cell_type": "code",
   "execution_count": null,
   "id": "4909ace8",
   "metadata": {},
   "outputs": [],
   "source": [
    "# Задача 2. О случайной непрерывной равномерно распределенной величине B известно, что ее\n",
    "# дисперсия равна 0.2.\n",
    "# Можно ли найти правую границу величины B и ее среднее значение зная, что левая\n",
    "# граница равна 0.5?\n",
    "# Если да, найдите ее."
   ]
  },
  {
   "cell_type": "code",
   "execution_count": 37,
   "id": "b4432c57",
   "metadata": {},
   "outputs": [
    {
     "data": {
      "text/plain": [
       "2.049193338482967"
      ]
     },
     "execution_count": 37,
     "metadata": {},
     "output_type": "execute_result"
    }
   ],
   "source": [
    "variance = 0.2\n",
    "a = 0.5\n",
    "\n",
    "# правая граница величины В\n",
    "b = math.sqrt(12*variance) + a   \n",
    "b"
   ]
  },
  {
   "cell_type": "code",
   "execution_count": 38,
   "id": "3df53fa5",
   "metadata": {},
   "outputs": [
    {
     "data": {
      "text/plain": [
       "1.2745966692414834"
      ]
     },
     "execution_count": 38,
     "metadata": {},
     "output_type": "execute_result"
    }
   ],
   "source": [
    "# среднее значение\n",
    "stats.uniform.mean(loc=a, scale=b-a)  "
   ]
  },
  {
   "cell_type": "code",
   "execution_count": null,
   "id": "fc3f7a71",
   "metadata": {},
   "outputs": [],
   "source": []
  },
  {
   "cell_type": "code",
   "execution_count": null,
   "id": "deba5d7f",
   "metadata": {},
   "outputs": [],
   "source": [
    "# Задача 3. Непрерывная случайная величина X распределена нормально и задана плотностью\n",
    "# распределения\n",
    "# f(x) = (1 / (4 * sqrt(2pi))) * exp((-(x+2)**2) / 32)\n",
    "# Найдите:\n",
    "# а). M(X)\n",
    "# б). D(X)\n",
    "# в). std(X) (среднее квадратичное отклонение)"
   ]
  },
  {
   "cell_type": "code",
   "execution_count": 61,
   "id": "6bbbdb3b",
   "metadata": {},
   "outputs": [],
   "source": [
    "M(X) = -2                     # мат.ожидание\n",
    "D(X) = 4**2 = 16              # дисперсия\n",
    "std(X) = sqrt(D(X)) = 4       # СКО"
   ]
  },
  {
   "cell_type": "code",
   "execution_count": null,
   "id": "4fdbe875",
   "metadata": {},
   "outputs": [],
   "source": []
  },
  {
   "cell_type": "code",
   "execution_count": null,
   "id": "5a9c7416",
   "metadata": {},
   "outputs": [],
   "source": [
    "# Задача 4. Рост взрослого населения города X имеет нормальное распределение, \n",
    "# причем, средний рост равен 174 см, а среднее квадратическое отклонение равно 8 см. \n",
    "# посчитайте, какова вероятность того, что случайным образом выбранный взрослый человек имеет рост:\n",
    "# 1. больше 182 см?\n",
    "# 2. больше 190 см?\n",
    "# 3. от 166 см до 190 см?\n",
    "# 4. от 166 см до 182 см?\n",
    "# 5. от 158 см до 190 см?\n",
    "# 6. не выше 150 см или не ниже 190 см?\n",
    "# 7. не выше 150 см или не ниже 198 см?\n",
    "# 8. ниже 166 см?\n"
   ]
  },
  {
   "cell_type": "code",
   "execution_count": 82,
   "id": "36224747",
   "metadata": {},
   "outputs": [
    {
     "data": {
      "text/plain": [
       "0.15865525393145707"
      ]
     },
     "execution_count": 82,
     "metadata": {},
     "output_type": "execute_result"
    }
   ],
   "source": [
    "# вероятность того, что рост больше 182см\n",
    "P1 = 1 - stats.norm.cdf(182, loc=174, scale=8)      \n",
    "P1"
   ]
  },
  {
   "cell_type": "code",
   "execution_count": 101,
   "id": "eabf5913",
   "metadata": {},
   "outputs": [
    {
     "data": {
      "text/plain": [
       "0.02275013194817921"
      ]
     },
     "execution_count": 101,
     "metadata": {},
     "output_type": "execute_result"
    }
   ],
   "source": [
    "# вероятность того, что рост больше 190см\n",
    "P2 = 1 - stats.norm.cdf(190, loc=174, scale=8)      \n",
    "P2"
   ]
  },
  {
   "cell_type": "code",
   "execution_count": 102,
   "id": "b3e85ec9",
   "metadata": {},
   "outputs": [
    {
     "data": {
      "text/plain": [
       "0.8185946141203637"
      ]
     },
     "execution_count": 102,
     "metadata": {},
     "output_type": "execute_result"
    }
   ],
   "source": [
    "# вероятность того, что рост 166 см до 190 см\n",
    "P3 = stats.norm.cdf(190, loc=174, scale=8)-stats.norm.cdf(166, loc=174, scale=8)\n",
    "P3                                                 "
   ]
  },
  {
   "cell_type": "code",
   "execution_count": 103,
   "id": "ec813096",
   "metadata": {},
   "outputs": [
    {
     "data": {
      "text/plain": [
       "0.6826894921370859"
      ]
     },
     "execution_count": 103,
     "metadata": {},
     "output_type": "execute_result"
    }
   ],
   "source": [
    "# вероятность того, что рост 166 см до 182 см\n",
    "P4 = stats.norm.cdf(182, loc=174, scale=8)-stats.norm.cdf(166, loc=174, scale=8)\n",
    "P4                                                 "
   ]
  },
  {
   "cell_type": "code",
   "execution_count": 105,
   "id": "5b75dcd2",
   "metadata": {},
   "outputs": [
    {
     "data": {
      "text/plain": [
       "0.9544997361036416"
      ]
     },
     "execution_count": 105,
     "metadata": {},
     "output_type": "execute_result"
    }
   ],
   "source": [
    "# вероятность того, что рост 158 см до 190 см\n",
    "P5 = stats.norm.cdf(190, loc=174, scale=8)-stats.norm.cdf(158, loc=174, scale=8)\n",
    "P5                                                  "
   ]
  },
  {
   "cell_type": "code",
   "execution_count": 106,
   "id": "194bad30",
   "metadata": {},
   "outputs": [
    {
     "data": {
      "text/plain": [
       "0.0241000299798092"
      ]
     },
     "execution_count": 106,
     "metadata": {},
     "output_type": "execute_result"
    }
   ],
   "source": [
    "# вероятность того, что рост не выше 150 см или не ниже 190 см?\n",
    "P6 = stats.norm.cdf(150, loc=174, scale=8) + 1 - stats.norm.cdf(190, loc=174, scale=8)\n",
    "P6"
   ]
  },
  {
   "cell_type": "code",
   "execution_count": 107,
   "id": "215ef6c8",
   "metadata": {},
   "outputs": [
    {
     "data": {
      "text/plain": [
       "0.002699796063260096"
      ]
     },
     "execution_count": 107,
     "metadata": {},
     "output_type": "execute_result"
    }
   ],
   "source": [
    "# вероятность того, что рост не выше 150 см или не ниже 198 см?\n",
    "P7 = stats.norm.cdf(150, loc=174, scale=8) + 1 - stats.norm.cdf(198, loc=174, scale=8)\n",
    "P7"
   ]
  },
  {
   "cell_type": "code",
   "execution_count": 108,
   "id": "b7508f9a",
   "metadata": {},
   "outputs": [
    {
     "data": {
      "text/plain": [
       "0.15865525393145707"
      ]
     },
     "execution_count": 108,
     "metadata": {},
     "output_type": "execute_result"
    }
   ],
   "source": [
    "# вероятность того, что рост ниже 166 см?\n",
    "P8 = stats.norm.cdf(166, loc=174, scale=8)\n",
    "P8"
   ]
  },
  {
   "cell_type": "code",
   "execution_count": null,
   "id": "baa47737",
   "metadata": {},
   "outputs": [],
   "source": []
  },
  {
   "cell_type": "code",
   "execution_count": 109,
   "id": "1af5a4b0",
   "metadata": {},
   "outputs": [],
   "source": [
    "# Задача 5. На сколько сигм (средних квадратичных отклонений) отклоняется рост человека,\n",
    "# равный 190 см, от математического ожидания роста в популяции, в которой M(X) = 178 см \n",
    "# и D(X) = 25 кв.см?"
   ]
  },
  {
   "cell_type": "code",
   "execution_count": 113,
   "id": "cd776b0d",
   "metadata": {},
   "outputs": [
    {
     "data": {
      "text/plain": [
       "5.0"
      ]
     },
     "execution_count": 113,
     "metadata": {},
     "output_type": "execute_result"
    }
   ],
   "source": [
    "# Находим СКО:\n",
    "std = math.sqrt(25) \n",
    "std"
   ]
  },
  {
   "cell_type": "code",
   "execution_count": 114,
   "id": "3bb43878",
   "metadata": {},
   "outputs": [
    {
     "data": {
      "text/plain": [
       "2.4"
      ]
     },
     "execution_count": 114,
     "metadata": {},
     "output_type": "execute_result"
    }
   ],
   "source": [
    "# Находим Z\n",
    "Z = (190-178)/std\n",
    "Z"
   ]
  },
  {
   "cell_type": "code",
   "execution_count": null,
   "id": "224b99fd",
   "metadata": {},
   "outputs": [],
   "source": []
  }
 ],
 "metadata": {
  "kernelspec": {
   "display_name": "Python 3 (ipykernel)",
   "language": "python",
   "name": "python3"
  },
  "language_info": {
   "codemirror_mode": {
    "name": "ipython",
    "version": 3
   },
   "file_extension": ".py",
   "mimetype": "text/x-python",
   "name": "python",
   "nbconvert_exporter": "python",
   "pygments_lexer": "ipython3",
   "version": "3.9.13"
  }
 },
 "nbformat": 4,
 "nbformat_minor": 5
}
