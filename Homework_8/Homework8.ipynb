{
 "cells": [
  {
   "cell_type": "code",
   "execution_count": 108,
   "id": "29688932",
   "metadata": {},
   "outputs": [],
   "source": [
    "import pandas as pd\n",
    "import numpy as np\n",
    "import scipy.stats as stats"
   ]
  },
  {
   "cell_type": "code",
   "execution_count": 109,
   "id": "7256116e",
   "metadata": {},
   "outputs": [],
   "source": [
    "# Даны значения величины заработной платы заемщиков банка (zp) и значения их поведенческого \n",
    "# кредитного скоринга (ks):\n",
    "# zp = [35, 45, 190, 200, 40, 70, 54, 150, 120, 110],\n",
    "# ks = [401, 574, 874, 919, 459, 739, 653, 902, 746, 832].\n",
    "# Найдите ковариацию этих двух величин с помощью элементарных действий, а затем с помощью функции cov\n",
    "# из numpy. Полученные значения должны быть равны.\n",
    "# Найдите коэффициент корреляции Пирсона с помощью ковариации и среднеквадратичных отклонений \n",
    "# двух признаков, а затем с использованием функций из библиотек numpy и pandas."
   ]
  },
  {
   "cell_type": "code",
   "execution_count": 110,
   "id": "29325b8a",
   "metadata": {},
   "outputs": [
    {
     "data": {
      "text/plain": [
       "9157.839999999997"
      ]
     },
     "execution_count": 110,
     "metadata": {},
     "output_type": "execute_result"
    }
   ],
   "source": [
    "zp = np.array([35, 45, 190, 200, 40, 70, 54, 150, 120, 110])\n",
    "ks = np.array([401, 574, 874, 919, 459, 739, 653, 902, 746, 832])\n",
    "\n",
    "cov = (np.mean(zp*ks) - np.mean(zp) * np.mean(ks))       # ковариация смещенная\n",
    "cov"
   ]
  },
  {
   "cell_type": "code",
   "execution_count": 111,
   "id": "e829f129",
   "metadata": {},
   "outputs": [
    {
     "data": {
      "text/plain": [
       "array([[ 3494.64,  9157.84],\n",
       "       [ 9157.84, 30468.89]])"
      ]
     },
     "execution_count": 111,
     "metadata": {},
     "output_type": "execute_result"
    }
   ],
   "source": [
    "np.cov(zp, ks, ddof=0)"
   ]
  },
  {
   "cell_type": "code",
   "execution_count": 112,
   "id": "7fe2aaf8",
   "metadata": {},
   "outputs": [],
   "source": [
    "σ_zp = np.std(zp, ddof=0)        #    смещенное СКО для выборки zp"
   ]
  },
  {
   "cell_type": "code",
   "execution_count": 113,
   "id": "e890abc8",
   "metadata": {},
   "outputs": [],
   "source": [
    "σ_ks = np.std(ks, ddof=0)        #    смещенное СКО для выборки zp"
   ]
  },
  {
   "cell_type": "code",
   "execution_count": 114,
   "id": "74228e46",
   "metadata": {},
   "outputs": [
    {
     "data": {
      "text/plain": [
       "0.8874900920739158"
      ]
     },
     "execution_count": 114,
     "metadata": {},
     "output_type": "execute_result"
    }
   ],
   "source": [
    "r = cov / (σ_zp*σ_ks)            #    коэффициент Пирсона\n",
    "r"
   ]
  },
  {
   "cell_type": "code",
   "execution_count": 115,
   "id": "d17f1dab",
   "metadata": {},
   "outputs": [
    {
     "data": {
      "text/plain": [
       "array([[1.        , 0.88749009],\n",
       "       [0.88749009, 1.        ]])"
      ]
     },
     "execution_count": 115,
     "metadata": {},
     "output_type": "execute_result"
    }
   ],
   "source": [
    "np.corrcoef(zp, ks)"
   ]
  },
  {
   "cell_type": "code",
   "execution_count": 116,
   "id": "e974571b",
   "metadata": {},
   "outputs": [
    {
     "data": {
      "text/plain": [
       "0.8874900920739163"
      ]
     },
     "execution_count": 116,
     "metadata": {},
     "output_type": "execute_result"
    }
   ],
   "source": [
    "df = pd.DataFrame({'zp': [35, 45, 190, 200, 40, 70, 54, 150, 120, 110],\n",
    "'ks': [401, 574, 874, 919, 459, 739, 653, 902, 746, 832]})\n",
    "\n",
    "df['zp']. corr(df['ks'])"
   ]
  },
  {
   "cell_type": "code",
   "execution_count": null,
   "id": "777061f1",
   "metadata": {},
   "outputs": [],
   "source": []
  },
  {
   "cell_type": "code",
   "execution_count": 117,
   "id": "fdb5bf7e",
   "metadata": {},
   "outputs": [],
   "source": [
    "# Измерены значения IQ выборки студентов,\n",
    "# обучающихся в местных технических вузах:\n",
    "# 131, 125, 115, 122, 131, 115, 107, 99, 125, 111.\n",
    "# Известно, что в генеральной совокупности IQ распределен нормально.\n",
    "# Найдите доверительный интервал для математического ожидания с надежностью 0.95."
   ]
  },
  {
   "cell_type": "code",
   "execution_count": 118,
   "id": "560f182c",
   "metadata": {},
   "outputs": [
    {
     "data": {
      "text/plain": [
       "118.1"
      ]
     },
     "execution_count": 118,
     "metadata": {},
     "output_type": "execute_result"
    }
   ],
   "source": [
    "x = np.array([131, 125, 115, 122, 131, 115, 107, 99, 125, 111])\n",
    "α = 0.05\n",
    "n = len(x)\n",
    "μ = np.mean(x)\n",
    "μ"
   ]
  },
  {
   "cell_type": "code",
   "execution_count": 119,
   "id": "0ce3172a",
   "metadata": {},
   "outputs": [
    {
     "data": {
      "text/plain": [
       "10.54566788359614"
      ]
     },
     "execution_count": 119,
     "metadata": {},
     "output_type": "execute_result"
    }
   ],
   "source": [
    "σ = np.std(x, ddof = 1) # находим несмещенное СКО для выборки\n",
    "σ"
   ]
  },
  {
   "cell_type": "code",
   "execution_count": 120,
   "id": "e98e18c4",
   "metadata": {},
   "outputs": [
    {
     "data": {
      "text/plain": [
       "(-2.262157162740992, 2.2621571627409915)"
      ]
     },
     "execution_count": 120,
     "metadata": {},
     "output_type": "execute_result"
    }
   ],
   "source": [
    "t1 = stats.t.ppf(α/2, df=n-1)\n",
    "t2 = stats.t.ppf(1 - α/2, df=n-1)\n",
    "t1,t2"
   ]
  },
  {
   "cell_type": "code",
   "execution_count": 121,
   "id": "a2baf298",
   "metadata": {},
   "outputs": [
    {
     "data": {
      "text/plain": [
       "(110.55608365158724, 125.64391634841274)"
      ]
     },
     "execution_count": 121,
     "metadata": {},
     "output_type": "execute_result"
    }
   ],
   "source": [
    "left = μ + t1 * σ/np.sqrt(n)\n",
    "right = μ + t2 * σ/np.sqrt(n)\n",
    "left,right"
   ]
  },
  {
   "cell_type": "code",
   "execution_count": null,
   "id": "619a52b4",
   "metadata": {},
   "outputs": [],
   "source": []
  },
  {
   "cell_type": "code",
   "execution_count": 122,
   "id": "e1ccccfe",
   "metadata": {},
   "outputs": [],
   "source": [
    "# Известно, что рост футболистов в сборной распределен нормально с дисперсией генеральной совокупности,\n",
    "# равной 25 кв.см. Объем выборки равен 27, среднее выборочное составляет 174.2. Найдите доверительный\n",
    "# интервал для математического ожидания с надежностью 0.95."
   ]
  },
  {
   "cell_type": "code",
   "execution_count": 123,
   "id": "f621cfc5",
   "metadata": {},
   "outputs": [],
   "source": [
    "α = 0.05\n",
    "n = 27\n",
    "μ = 174.2\n",
    "d = 25"
   ]
  },
  {
   "cell_type": "code",
   "execution_count": 124,
   "id": "31155687",
   "metadata": {},
   "outputs": [
    {
     "data": {
      "text/plain": [
       "(-1.9599639845400545, 1.959963984540054)"
      ]
     },
     "execution_count": 124,
     "metadata": {},
     "output_type": "execute_result"
    }
   ],
   "source": [
    "t1 = stats.norm.ppf(α/2)\n",
    "t2 = stats.norm.ppf(1 - α/2)\n",
    "t1,t2"
   ]
  },
  {
   "cell_type": "code",
   "execution_count": 125,
   "id": "f550b953",
   "metadata": {},
   "outputs": [
    {
     "data": {
      "text/plain": [
       "(172.3140237765397, 176.08597622346028)"
      ]
     },
     "execution_count": 125,
     "metadata": {},
     "output_type": "execute_result"
    }
   ],
   "source": [
    "left = μ + t1 * np.sqrt(d)/np.sqrt(n)\n",
    "right = μ + t2 * np.sqrt(d)/np.sqrt(n)\n",
    "left,right"
   ]
  },
  {
   "cell_type": "code",
   "execution_count": null,
   "id": "b020ad90",
   "metadata": {},
   "outputs": [],
   "source": []
  }
 ],
 "metadata": {
  "kernelspec": {
   "display_name": "Python 3 (ipykernel)",
   "language": "python",
   "name": "python3"
  },
  "language_info": {
   "codemirror_mode": {
    "name": "ipython",
    "version": 3
   },
   "file_extension": ".py",
   "mimetype": "text/x-python",
   "name": "python",
   "nbconvert_exporter": "python",
   "pygments_lexer": "ipython3",
   "version": "3.9.13"
  }
 },
 "nbformat": 4,
 "nbformat_minor": 5
}
