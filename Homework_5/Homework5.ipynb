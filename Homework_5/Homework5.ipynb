{
 "cells": [
  {
   "cell_type": "code",
   "execution_count": 36,
   "id": "6d87199c",
   "metadata": {},
   "outputs": [],
   "source": [
    "import numpy as np\n",
    "import scipy.stats as stats"
   ]
  },
  {
   "cell_type": "code",
   "execution_count": 37,
   "id": "9162c536",
   "metadata": {},
   "outputs": [],
   "source": [
    "# Задача 1. Когда используется критерий Стьюдента, а когда Z –критерий?"
   ]
  },
  {
   "cell_type": "code",
   "execution_count": 39,
   "id": "71bb8961",
   "metadata": {},
   "outputs": [],
   "source": [
    "Z-критерий используется, когда известно СКО (или дисперсия) по генеральной совокупности, \n",
    "в противном случае используется критерий Стьюдента"
   ]
  },
  {
   "cell_type": "code",
   "execution_count": null,
   "id": "75b9b639",
   "metadata": {},
   "outputs": [],
   "source": []
  },
  {
   "cell_type": "code",
   "execution_count": 40,
   "id": "70476745",
   "metadata": {},
   "outputs": [],
   "source": [
    "# Задача 2. Проведите тест гипотезы. Утверждается, что шарики для подшипников, изготовленные\n",
    "# автоматическим станком, имеют средний диаметр 17 мм.\n",
    "# Используя односторонний критерий с α=0,05, проверить эту гипотезу, если в выборке из\n",
    "# n=100 шариков средний диаметр\n",
    "# оказался равным 17.5 мм, а дисперсия известна и равна 4 кв. мм."
   ]
  },
  {
   "cell_type": "code",
   "execution_count": 41,
   "id": "13843453",
   "metadata": {},
   "outputs": [],
   "source": [
    "# Выстраиваем гипотезы:\n",
    "# H(0): μ = 17\n",
    "# H(1): μ > 17\n",
    "\n",
    "x_mean = 17.5\n",
    "μ = 17 \n",
    "x_v = 4\n",
    "n_x = 100\n",
    "alpha = 0.05"
   ]
  },
  {
   "cell_type": "code",
   "execution_count": 42,
   "id": "6778bb72",
   "metadata": {},
   "outputs": [
    {
     "data": {
      "text/plain": [
       "2.5"
      ]
     },
     "execution_count": 42,
     "metadata": {},
     "output_type": "execute_result"
    }
   ],
   "source": [
    "# Находим наблюдаемое значение (по формуле t-критерия для одной выборки):\n",
    "t_emp = (x_mean - μ) / (np.sqrt(x_v)/np.sqrt(n_x))        \n",
    "t_emp"
   ]
  },
  {
   "cell_type": "code",
   "execution_count": 43,
   "id": "b60c3baf",
   "metadata": {},
   "outputs": [
    {
     "data": {
      "text/plain": [
       "1.9720174778338955"
      ]
     },
     "execution_count": 43,
     "metadata": {},
     "output_type": "execute_result"
    }
   ],
   "source": [
    "# Находим критическое значение:\n",
    "n = n_x\n",
    "t = stats.t.ppf(1 - alpha / 2, df=2*(n-1))   # правосторонняя критическая область\n",
    "t"
   ]
  },
  {
   "cell_type": "code",
   "execution_count": 44,
   "id": "bf87f1e3",
   "metadata": {},
   "outputs": [],
   "source": [
    "# t_emp > t (2.5>1.97) => Наблюдаемое значение попало в ПКО => Нулевая гипотеза отвергается\n",
    "# и средний диаметр шариков для подшипников можно считать бОльшим, чем 17мм."
   ]
  },
  {
   "cell_type": "code",
   "execution_count": null,
   "id": "85350fd1",
   "metadata": {},
   "outputs": [],
   "source": []
  },
  {
   "cell_type": "code",
   "execution_count": 45,
   "id": "0cfb212d",
   "metadata": {},
   "outputs": [],
   "source": [
    "# Задача 3. Проведите тест гипотезы. Продавец утверждает, что средний вес пачки печенья\n",
    "# составляет 200 г.\n",
    "# Из партии извлечена выборка из 10 пачек. Вес каждой пачки составляет:\n",
    "# 202, 203, 199, 197, 195, 201, 200, 204, 194, 190.\n",
    "# Известно, что их веса распределены нормально.\n",
    "# Верно ли утверждение продавца, если учитывать, что доверительная вероятность равна\n",
    "# 99%? (Провести двусторонний тест.)"
   ]
  },
  {
   "cell_type": "code",
   "execution_count": 46,
   "id": "6fcf54a9",
   "metadata": {},
   "outputs": [
    {
     "name": "stdout",
     "output_type": "stream",
     "text": [
      "198.5 19.833333333333332 10\n"
     ]
    }
   ],
   "source": [
    "x = np.array([202, 203, 199, 197, 195, 201, 200, 204, 194, 190])\n",
    "\n",
    "# Находим среднее значение по выборке, несмещенную дисперсию и кол-во пачек в выборке:\n",
    "μ = 200\n",
    "x_mean = np.mean(x)\n",
    "x_v = np.var(x, ddof=1)\n",
    "n_x = len(x)\n",
    "print(x_mean, x_v, n_x)"
   ]
  },
  {
   "cell_type": "code",
   "execution_count": 47,
   "id": "41fb26ad",
   "metadata": {},
   "outputs": [
    {
     "data": {
      "text/plain": [
       "0.010000000000000009"
      ]
     },
     "execution_count": 47,
     "metadata": {},
     "output_type": "execute_result"
    }
   ],
   "source": [
    "# Выстраиваем гипотезы:\n",
    "# H(0): μ = 200\n",
    "# H(1): μ ≠ 200\n",
    "\n",
    "# Находим уровень стат.значимости:\n",
    "alpha = 1 - 0.99\n",
    "alpha"
   ]
  },
  {
   "cell_type": "code",
   "execution_count": 48,
   "id": "ea362924",
   "metadata": {},
   "outputs": [
    {
     "data": {
      "text/plain": [
       "-1.0651074037450896"
      ]
     },
     "execution_count": 48,
     "metadata": {},
     "output_type": "execute_result"
    }
   ],
   "source": [
    "# Находим наблюдаемое значение (по формуле t-критерия для одной выборки):\n",
    "t_emp = (x_mean - μ) / (np.sqrt(x_v)/np.sqrt(n_x))        \n",
    "t_emp"
   ]
  },
  {
   "cell_type": "code",
   "execution_count": 49,
   "id": "10ed8a57",
   "metadata": {},
   "outputs": [
    {
     "data": {
      "text/plain": [
       "(-2.8784404727135864, 2.878440472713585)"
      ]
     },
     "execution_count": 49,
     "metadata": {},
     "output_type": "execute_result"
    }
   ],
   "source": [
    "# Находим критическое значение:\n",
    "alpha = 0.01\n",
    "n = n_x\n",
    "t1 = stats.t.ppf(alpha / 2, df=2*(n-1))\n",
    "t2 = stats.t.ppf(1 - alpha / 2, df=2*(n-1))\n",
    "t1, t2"
   ]
  },
  {
   "cell_type": "code",
   "execution_count": 50,
   "id": "1d858c0a",
   "metadata": {},
   "outputs": [],
   "source": [
    "# t_emp (-1.65) лежит между критическими значениями (-2.87 и 2.87) => Нулевая гипотеза не отвергается\n",
    "# и утверждение продавца, что средний вес пачки печенья равен 200гр., можно считать верным."
   ]
  },
  {
   "cell_type": "code",
   "execution_count": null,
   "id": "b31e6497",
   "metadata": {},
   "outputs": [],
   "source": []
  },
  {
   "cell_type": "code",
   "execution_count": 51,
   "id": "c0cb9d5a",
   "metadata": {},
   "outputs": [],
   "source": [
    "# Задача 4. Есть ли статистически значимые различия в росте\n",
    "# дочерей?\n",
    "# Рост матерей 172, 177, 158, 170, 178,175, 164, 160, 169, 165\n",
    "# Рост взрослых дочерей: 173, 175, 162, 174, 175, 168, 155, 170, 160, 163"
   ]
  },
  {
   "cell_type": "code",
   "execution_count": 52,
   "id": "3e8b4f95",
   "metadata": {},
   "outputs": [],
   "source": [
    "x = np.array([172, 177, 158, 170, 178,175, 164, 160, 169, 165])\n",
    "y = np.array([173, 175, 162, 174, 175, 168, 155, 170, 160, 163])\n",
    "alpha = 0.05"
   ]
  },
  {
   "cell_type": "code",
   "execution_count": 53,
   "id": "412f33af",
   "metadata": {},
   "outputs": [],
   "source": [
    "# Выстраиваем гипотезы:\n",
    "# H(0): μ(x) = μ(y)  # нет статистически значимых различий в росте\n",
    "# H(1): μ(x) ≠ μ(y)  # есть статистически значимые различия в росте"
   ]
  },
  {
   "cell_type": "code",
   "execution_count": 54,
   "id": "d302cbad",
   "metadata": {},
   "outputs": [
    {
     "data": {
      "text/plain": [
       "Ttest_relResult(statistic=0.6648478531431979, pvalue=0.5228168632983574)"
      ]
     },
     "execution_count": 54,
     "metadata": {},
     "output_type": "execute_result"
    }
   ],
   "source": [
    "stats.ttest_rel(x, y)  # две зависимые выборки   "
   ]
  },
  {
   "cell_type": "code",
   "execution_count": null,
   "id": "20560d52",
   "metadata": {},
   "outputs": [],
   "source": [
    "# Сравниваем P-value и значение alpha:\n",
    "0.52 > 0.05   => Нулевая гипотеза не отвергается, и можно считать, что нет статистически значимых\n",
    "различий в росте дочерей."
   ]
  }
 ],
 "metadata": {
  "kernelspec": {
   "display_name": "Python 3 (ipykernel)",
   "language": "python",
   "name": "python3"
  },
  "language_info": {
   "codemirror_mode": {
    "name": "ipython",
    "version": 3
   },
   "file_extension": ".py",
   "mimetype": "text/x-python",
   "name": "python",
   "nbconvert_exporter": "python",
   "pygments_lexer": "ipython3",
   "version": "3.9.13"
  }
 },
 "nbformat": 4,
 "nbformat_minor": 5
}
