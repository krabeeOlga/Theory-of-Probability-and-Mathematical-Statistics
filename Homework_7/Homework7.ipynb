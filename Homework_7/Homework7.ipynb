{
 "cells": [
  {
   "cell_type": "code",
   "execution_count": 2,
   "id": "df463f95",
   "metadata": {},
   "outputs": [],
   "source": [
    "import numpy as np\n",
    "import scipy.stats as stats"
   ]
  },
  {
   "cell_type": "code",
   "execution_count": 3,
   "id": "91fa3a17",
   "metadata": {},
   "outputs": [],
   "source": [
    "# Задача 1. Даны две независимые выборки. Не соблюдается условие нормальности\n",
    "# x1 380,420, 290\n",
    "# y1 140,360,200,900\n",
    "# Сделайте вывод по результатам, полученным с помощью функции, имеются ли статистические различия \n",
    "# между группами?"
   ]
  },
  {
   "cell_type": "code",
   "execution_count": 4,
   "id": "d3d61fe9",
   "metadata": {},
   "outputs": [
    {
     "data": {
      "text/plain": [
       "MannwhitneyuResult(statistic=8.0, pvalue=0.6285714285714286)"
      ]
     },
     "execution_count": 4,
     "metadata": {},
     "output_type": "execute_result"
    }
   ],
   "source": [
    "x1 = np.array([380, 420, 290])\n",
    "x2 = np.array([140, 360, 200, 900])\n",
    "stats.mannwhitneyu(x1, x2)"
   ]
  },
  {
   "cell_type": "markdown",
   "id": "99caa841",
   "metadata": {},
   "source": [
    " "
   ]
  },
  {
   "cell_type": "code",
   "execution_count": 6,
   "id": "7d2aeb25",
   "metadata": {},
   "outputs": [],
   "source": [
    "# Задача 2. Исследовалось влияние препарата на уровень давления пациентов. Сначала\n",
    "# измерялось давление до приема препарата, потом через 10 минут и через 30 минут. Есть\n",
    "# ли статистически значимые различия между измерениями давления? В выборках не соблюдается \n",
    "# условие нормальности.\n",
    "# 1е измерение до приема препарата: 150, 160, 165, 145, 155\n",
    "# 2е измерение через 10 минут: 140, 155, 150, 130, 135\n",
    "# 3е измерение через 30 минут: 130, 130, 120, 130, 125"
   ]
  },
  {
   "cell_type": "code",
   "execution_count": 7,
   "id": "0b99ca61",
   "metadata": {},
   "outputs": [
    {
     "data": {
      "text/plain": [
       "FriedmanchisquareResult(statistic=9.578947368421062, pvalue=0.00831683351100441)"
      ]
     },
     "execution_count": 7,
     "metadata": {},
     "output_type": "execute_result"
    }
   ],
   "source": [
    "A = np.array([150, 160, 165, 145, 155])\n",
    "B = np.array([140, 155, 150, 130, 135])\n",
    "C = np.array([130, 130, 120, 130, 125])\n",
    "stats.friedmanchisquare(A, B, C)"
   ]
  },
  {
   "cell_type": "code",
   "execution_count": 8,
   "id": "bd854a90",
   "metadata": {},
   "outputs": [],
   "source": [
    "# 0,008 < 0,05 => нулевая гипотеза отвергается => есть статистически значимые различия между \n",
    "# измерениями давления у пациентов до приема прпарата и 10(30) минут спустя"
   ]
  },
  {
   "cell_type": "code",
   "execution_count": null,
   "id": "64fa63e0",
   "metadata": {},
   "outputs": [],
   "source": []
  },
  {
   "cell_type": "code",
   "execution_count": null,
   "id": "e95a20b4",
   "metadata": {},
   "outputs": [],
   "source": [
    "# Задача 3. Сравните 1 и 2 е измерения, предполагая, что 3го измерения через 30 минут не было. Есть\n",
    "# ли статистически значимые различия между измерениями давления?"
   ]
  },
  {
   "cell_type": "code",
   "execution_count": 9,
   "id": "4637b617",
   "metadata": {},
   "outputs": [
    {
     "data": {
      "text/plain": [
       "WilcoxonResult(statistic=0.0, pvalue=0.0625)"
      ]
     },
     "execution_count": 9,
     "metadata": {},
     "output_type": "execute_result"
    }
   ],
   "source": [
    "A = np.array([150, 160, 165, 145, 155])\n",
    "B = np.array([140, 155, 150, 130, 135])\n",
    "stats.wilcoxon(A, B)"
   ]
  },
  {
   "cell_type": "code",
   "execution_count": 10,
   "id": "9cfdedef",
   "metadata": {},
   "outputs": [],
   "source": [
    "# 0,06 > 0,05 => нулевая гипотеза не отвергается => нет статистически значимых различий между \n",
    "# измерениями давления у пациентов до приема прпарата и 10 минут спустя"
   ]
  },
  {
   "cell_type": "code",
   "execution_count": null,
   "id": "47863489",
   "metadata": {},
   "outputs": [],
   "source": []
  },
  {
   "cell_type": "code",
   "execution_count": 11,
   "id": "2fdd7293",
   "metadata": {},
   "outputs": [],
   "source": [
    "# Задача 4. Даны 3 группы учеников плавания. Не соблюдается условие нормальности.\n",
    "# В 1 группе время на дистанцию 50 м составляют:\n",
    "# 56, 60, 62, 55, 71, 67, 59, 58, 64, 67\n",
    "# Вторая группа : 57, 58, 69, 48, 72, 70, 68, 71, 50, 53\n",
    "# Третья группа: 57, 67, 49, 48, 47, 55, 66, 51, 54\n",
    "# Есть\n",
    "# ли статистически значимые различия между группами?"
   ]
  },
  {
   "cell_type": "code",
   "execution_count": 12,
   "id": "3c6ec68d",
   "metadata": {},
   "outputs": [
    {
     "data": {
      "text/plain": [
       "KruskalResult(statistic=5.465564058257224, pvalue=0.0650380998590494)"
      ]
     },
     "execution_count": 12,
     "metadata": {},
     "output_type": "execute_result"
    }
   ],
   "source": [
    "x1 = np.array([56, 60, 62, 55, 71, 67, 59, 58, 64, 67])\n",
    "x2 = np.array([57, 58, 69, 48, 72, 70, 68, 71, 50, 53])\n",
    "x3 = np.array([57, 67, 49, 48, 47, 55, 66, 51, 54])\n",
    "stats.kruskal(x1, x2, x3)"
   ]
  },
  {
   "cell_type": "code",
   "execution_count": 13,
   "id": "1d975f6e",
   "metadata": {},
   "outputs": [],
   "source": [
    "# 0,065 > 0,05 => нулевая гипотеза не отвергается => нет статистически значимых различий между \n",
    "# показателями 3х групп учеников плавания"
   ]
  },
  {
   "cell_type": "code",
   "execution_count": null,
   "id": "9b8435a2",
   "metadata": {},
   "outputs": [],
   "source": []
  },
  {
   "cell_type": "code",
   "execution_count": 14,
   "id": "13e8a4bf",
   "metadata": {},
   "outputs": [],
   "source": [
    "# Задача 5. Заявляется, что партия изготавливается со средним арифметическим 2,5 см. Проверить\n",
    "# данную гипотезу, если известно, что размеры изделий подчинены нормальному закону\n",
    "# распределения. Объем выборки 10, уровень статистической значимости 5%\n",
    "# 2.51, 2.35, 2.74, 2.56, 2.40, 2.36, 2.65, 2.7, 2.67, 2.34"
   ]
  },
  {
   "cell_type": "code",
   "execution_count": 17,
   "id": "a4c13db5",
   "metadata": {},
   "outputs": [
    {
     "name": "stdout",
     "output_type": "stream",
     "text": [
      "2.5279999999999996 0.02472888888888891 10\n"
     ]
    }
   ],
   "source": [
    "x = np.array([2.51, 2.35, 2.74, 2.56, 2.40, 2.36, 2.65, 2.7, 2.67, 2.34])\n",
    "\n",
    "# Выстраиваем гипотезы:\n",
    "# H(0): μ = 2,5\n",
    "# H(1): μ > 2,5\n",
    "\n",
    "# Находим среднее значение по выборке, несмещенную дисперсию и кол-во изделий в выборке:\n",
    "μ = 2.5\n",
    "alpha = 0.05\n",
    "x_mean = np.mean(x)\n",
    "x_v = np.var(x, ddof=1)\n",
    "n_x = len(x)\n",
    "print(x_mean, x_v, n_x)"
   ]
  },
  {
   "cell_type": "code",
   "execution_count": 18,
   "id": "7de9cffe",
   "metadata": {},
   "outputs": [
    {
     "data": {
      "text/plain": [
       "0.5630613661802959"
      ]
     },
     "execution_count": 18,
     "metadata": {},
     "output_type": "execute_result"
    }
   ],
   "source": [
    "# Находим наблюдаемое значение (по формуле z-критерия для одной выборки):\n",
    "z_emp = (x_mean - μ) / (np.sqrt(x_v)/np.sqrt(n_x))        \n",
    "z_emp"
   ]
  },
  {
   "cell_type": "code",
   "execution_count": 19,
   "id": "bee8aad4",
   "metadata": {},
   "outputs": [
    {
     "data": {
      "text/plain": [
       "1.6448536269514722"
      ]
     },
     "execution_count": 19,
     "metadata": {},
     "output_type": "execute_result"
    }
   ],
   "source": [
    "# Находим критическое значение:\n",
    "t = stats.norm.ppf(1-alpha)   # правосторонняя критическая область\n",
    "t"
   ]
  },
  {
   "cell_type": "code",
   "execution_count": 20,
   "id": "26f1bb94",
   "metadata": {},
   "outputs": [],
   "source": [
    "# 0.56 < 1.64 => Наблюдаемое значение не попало в ПКО => Нулевая гипотеза не отвергается\n",
    "# и можно считать, что средний размер изделий равен 2,5см."
   ]
  },
  {
   "cell_type": "code",
   "execution_count": null,
   "id": "a13829be",
   "metadata": {},
   "outputs": [],
   "source": []
  }
 ],
 "metadata": {
  "kernelspec": {
   "display_name": "Python 3 (ipykernel)",
   "language": "python",
   "name": "python3"
  },
  "language_info": {
   "codemirror_mode": {
    "name": "ipython",
    "version": 3
   },
   "file_extension": ".py",
   "mimetype": "text/x-python",
   "name": "python",
   "nbconvert_exporter": "python",
   "pygments_lexer": "ipython3",
   "version": "3.9.13"
  }
 },
 "nbformat": 4,
 "nbformat_minor": 5
}
