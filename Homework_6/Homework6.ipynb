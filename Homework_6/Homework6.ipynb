{
 "cells": [
  {
   "cell_type": "code",
   "execution_count": 55,
   "id": "a1b335e3",
   "metadata": {},
   "outputs": [],
   "source": [
    "import numpy as np\n",
    "import scipy.stats as stats"
   ]
  },
  {
   "cell_type": "code",
   "execution_count": 56,
   "id": "490bed21",
   "metadata": {},
   "outputs": [],
   "source": [
    "# Задача 1. Известно, что генеральная совокупность распределена нормально\n",
    "# со средним квадратическим отклонением, равным 16.\n",
    "# Найти доверительный интервал для оценки математического ожидания с надежностью\n",
    "# 0.95,\n",
    "# если выборочная средняя M = 80, а объем выборки n = 256."
   ]
  },
  {
   "cell_type": "code",
   "execution_count": 57,
   "id": "becba5ff",
   "metadata": {},
   "outputs": [
    {
     "data": {
      "text/plain": [
       "(78.03, 81.97)"
      ]
     },
     "execution_count": 57,
     "metadata": {},
     "output_type": "execute_result"
    }
   ],
   "source": [
    "σ = 16\n",
    "α = 0.05\n",
    "μ = 80\n",
    "n = 256\n",
    "\n",
    "# Находим доверительный интервал:\n",
    "t = stats.t.ppf(0.975, 255)\n",
    "x1 = μ - t * σ/np.sqrt(n)\n",
    "x2 = μ + t * σ/np.sqrt(n)\n",
    "round(x1,2), round(x2,2)\n"
   ]
  },
  {
   "cell_type": "code",
   "execution_count": null,
   "id": "2d08a978",
   "metadata": {},
   "outputs": [],
   "source": []
  },
  {
   "cell_type": "code",
   "execution_count": 58,
   "id": "a9d3f5a4",
   "metadata": {},
   "outputs": [],
   "source": [
    "# Задача 2. В результате 10 независимых измерений некоторой величины X, выполненных с\n",
    "# одинаковой точностью,\n",
    "# получены опытные данные:\n",
    "# 6.9, 6.1, 6.2, 6.8, 7.5, 6.3, 6.4, 6.9, 6.7, 6.1\n",
    "# Предполагая, что результаты измерений подчинены нормальному закону распределения\n",
    "# вероятностей,\n",
    "# оценить истинное значение величины X при помощи доверительного интервала,\n",
    "# покрывающего это\n",
    "# значение с доверительной вероятностью 0,95."
   ]
  },
  {
   "cell_type": "code",
   "execution_count": 59,
   "id": "b8443475",
   "metadata": {},
   "outputs": [
    {
     "data": {
      "text/plain": [
       "6.590000000000001"
      ]
     },
     "execution_count": 59,
     "metadata": {},
     "output_type": "execute_result"
    }
   ],
   "source": [
    "a = np.array([6.9, 6.1, 6.2, 6.8, 7.5, 6.3, 6.4, 6.9, 6.7, 6.1])\n",
    "\n",
    "μ = np.mean(a)   # находим среднее арифметическое для выборки a\n",
    "μ"
   ]
  },
  {
   "cell_type": "code",
   "execution_count": 60,
   "id": "cacd77d2",
   "metadata": {},
   "outputs": [
    {
     "data": {
      "text/plain": [
       "0.2032222222222223"
      ]
     },
     "execution_count": 60,
     "metadata": {},
     "output_type": "execute_result"
    }
   ],
   "source": [
    "d = np.var(a, ddof=1) # находим несмещенную дисперсию для выборки\n",
    "d"
   ]
  },
  {
   "cell_type": "code",
   "execution_count": 61,
   "id": "c55b2a84",
   "metadata": {},
   "outputs": [
    {
     "data": {
      "text/plain": [
       "2.2621571627409915"
      ]
     },
     "execution_count": 61,
     "metadata": {},
     "output_type": "execute_result"
    }
   ],
   "source": [
    "# Находим t-критическое:\n",
    "t = stats.t.ppf(0.975, 9)\n",
    "t"
   ]
  },
  {
   "cell_type": "code",
   "execution_count": 62,
   "id": "3e542928",
   "metadata": {},
   "outputs": [
    {
     "data": {
      "text/plain": [
       "(6.53, 6.65)"
      ]
     },
     "execution_count": 62,
     "metadata": {},
     "output_type": "execute_result"
    }
   ],
   "source": [
    "# Находим доверительный интервал:\n",
    "x1 = μ - t * np.sqrt(d/n)\n",
    "x2 = μ + t * np.sqrt(d/n)\n",
    "round(x1,2), round(x2,2)"
   ]
  },
  {
   "cell_type": "code",
   "execution_count": 64,
   "id": "f0336db1",
   "metadata": {},
   "outputs": [],
   "source": [
    "P(6.53 < μ < 6.65 ) = 0.95"
   ]
  },
  {
   "cell_type": "code",
   "execution_count": null,
   "id": "f5f36250",
   "metadata": {},
   "outputs": [],
   "source": []
  },
  {
   "cell_type": "code",
   "execution_count": 65,
   "id": "7f8ce738",
   "metadata": {},
   "outputs": [],
   "source": [
    "# Задача 3. Рост дочерей 175, 167, 154, 174, 178, 148, 160, 167, 169, 170\n",
    "# Рост матерей 178, 165, 165, 173, 168, 155, 160, 164, 178, 175\n",
    "\n",
    "# Используя эти данные построить 95% доверительный интервал для разности среднего\n",
    "# роста родителей и детей."
   ]
  },
  {
   "cell_type": "code",
   "execution_count": 66,
   "id": "63efb4dd",
   "metadata": {},
   "outputs": [
    {
     "data": {
      "text/plain": [
       "10"
      ]
     },
     "execution_count": 66,
     "metadata": {},
     "output_type": "execute_result"
    }
   ],
   "source": [
    "a = np.array([175, 167, 154, 174, 178, 148, 160, 167, 169, 170])\n",
    "b = np.array([178, 165, 165, 173, 168, 155, 160, 164, 178, 175])\n",
    "\n",
    "len(a)"
   ]
  },
  {
   "cell_type": "code",
   "execution_count": 67,
   "id": "88c7cf30",
   "metadata": {},
   "outputs": [
    {
     "data": {
      "text/plain": [
       "10"
      ]
     },
     "execution_count": 67,
     "metadata": {},
     "output_type": "execute_result"
    }
   ],
   "source": [
    "len(b)"
   ]
  },
  {
   "cell_type": "code",
   "execution_count": 68,
   "id": "2b6102b6",
   "metadata": {},
   "outputs": [
    {
     "data": {
      "text/plain": [
       "166.2"
      ]
     },
     "execution_count": 68,
     "metadata": {},
     "output_type": "execute_result"
    }
   ],
   "source": [
    "μ_a = np.mean(a)   # находим среднее арифметическое для выборки a\n",
    "μ_a"
   ]
  },
  {
   "cell_type": "code",
   "execution_count": 69,
   "id": "d36b9e51",
   "metadata": {},
   "outputs": [
    {
     "data": {
      "text/plain": [
       "168.1"
      ]
     },
     "execution_count": 69,
     "metadata": {},
     "output_type": "execute_result"
    }
   ],
   "source": [
    "μ_b = np.mean(b)   # находим среднее арифметическое для выборки b\n",
    "μ_b"
   ]
  },
  {
   "cell_type": "code",
   "execution_count": 70,
   "id": "5d31ae92",
   "metadata": {},
   "outputs": [
    {
     "data": {
      "text/plain": [
       "1.9000000000000057"
      ]
     },
     "execution_count": 70,
     "metadata": {},
     "output_type": "execute_result"
    }
   ],
   "source": [
    "delta = μ_b - μ_a   # разность средних по выборкам\n",
    "delta"
   ]
  },
  {
   "cell_type": "code",
   "execution_count": 71,
   "id": "34b336ac",
   "metadata": {},
   "outputs": [
    {
     "data": {
      "text/plain": [
       "91.06666666666666"
      ]
     },
     "execution_count": 71,
     "metadata": {},
     "output_type": "execute_result"
    }
   ],
   "source": [
    "d_a = np.var(a, ddof=1) # находим несмещенную дисперсию для выборки a\n",
    "d_a"
   ]
  },
  {
   "cell_type": "code",
   "execution_count": 72,
   "id": "80896269",
   "metadata": {},
   "outputs": [
    {
     "data": {
      "text/plain": [
       "60.10000000000001"
      ]
     },
     "execution_count": 72,
     "metadata": {},
     "output_type": "execute_result"
    }
   ],
   "source": [
    "d_b = np.var(b, ddof=1) # находим несмещенную дисперсию для выборки b\n",
    "d_b"
   ]
  },
  {
   "cell_type": "code",
   "execution_count": 73,
   "id": "93bca745",
   "metadata": {},
   "outputs": [
    {
     "data": {
      "text/plain": [
       "75.58333333333334"
      ]
     },
     "execution_count": 73,
     "metadata": {},
     "output_type": "execute_result"
    }
   ],
   "source": [
    "d = (d_a + d_b)/2      # объединенная оценка дисперсии\n",
    "d"
   ]
  },
  {
   "cell_type": "code",
   "execution_count": 74,
   "id": "2133d2a1",
   "metadata": {},
   "outputs": [
    {
     "data": {
      "text/plain": [
       "3.8880157750022915"
      ]
     },
     "execution_count": 74,
     "metadata": {},
     "output_type": "execute_result"
    }
   ],
   "source": [
    "SE = np.sqrt(d/len(a) + d/len(b))   # стандартная ошибка разности средних\n",
    "SE"
   ]
  },
  {
   "cell_type": "code",
   "execution_count": 75,
   "id": "dc1465cd",
   "metadata": {},
   "outputs": [
    {
     "data": {
      "text/plain": [
       "2.10092204024096"
      ]
     },
     "execution_count": 75,
     "metadata": {},
     "output_type": "execute_result"
    }
   ],
   "source": [
    "# Находим t-критическое:\n",
    "t = stats.t.ppf(0.975, 18)        #   df=2*(10-1)=18\n",
    "t"
   ]
  },
  {
   "cell_type": "code",
   "execution_count": 76,
   "id": "2e8941aa",
   "metadata": {},
   "outputs": [
    {
     "data": {
      "text/plain": [
       "(-6.27, 10.07)"
      ]
     },
     "execution_count": 76,
     "metadata": {},
     "output_type": "execute_result"
    }
   ],
   "source": [
    "# Находим доверительный интервал\n",
    "x1 = delta - t * SE\n",
    "x2 = delta + t * SE\n",
    "round(x1,2), round(x2,2)"
   ]
  },
  {
   "cell_type": "code",
   "execution_count": null,
   "id": "b455b7ce",
   "metadata": {},
   "outputs": [],
   "source": [
    "P(-6.27 < delta < 10.07 ) = 0.95"
   ]
  }
 ],
 "metadata": {
  "kernelspec": {
   "display_name": "Python 3 (ipykernel)",
   "language": "python",
   "name": "python3"
  },
  "language_info": {
   "codemirror_mode": {
    "name": "ipython",
    "version": 3
   },
   "file_extension": ".py",
   "mimetype": "text/x-python",
   "name": "python",
   "nbconvert_exporter": "python",
   "pygments_lexer": "ipython3",
   "version": "3.9.13"
  }
 },
 "nbformat": 4,
 "nbformat_minor": 5
}
