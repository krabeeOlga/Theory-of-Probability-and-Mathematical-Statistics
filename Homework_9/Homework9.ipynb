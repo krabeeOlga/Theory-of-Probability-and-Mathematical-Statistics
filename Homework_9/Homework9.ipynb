{
 "cells": [
  {
   "cell_type": "code",
   "execution_count": 18,
   "id": "65abe604",
   "metadata": {},
   "outputs": [],
   "source": [
    "import numpy as np\n",
    "import matplotlib.pyplot as plt\n",
    "import scipy.stats as stats\n",
    "from sklearn.linear_model import LinearRegression"
   ]
  },
  {
   "cell_type": "code",
   "execution_count": 19,
   "id": "a06fb47c",
   "metadata": {},
   "outputs": [],
   "source": [
    "# Задача 1 Даны значения величины заработной платы заемщиков банка (zp) и значения их\n",
    "# поведенческого кредитного скоринга (ks): zp = [35, 45, 190, 200, 40, 70, 54, 150, 120, 110],\n",
    "# ks = [401, 574, 874, 919, 459, 739, 653, 902, 746, 832]. Используя математические\n",
    "# операции, посчитать коэффициенты линейной регрессии, приняв за X заработную плату\n",
    "# (то есть, zp - признак), а за y - значения скорингового балла (то есть, ks - целевая\n",
    "# переменная). Произвести расчет как с использованием intercept, так и без."
   ]
  },
  {
   "cell_type": "code",
   "execution_count": 20,
   "id": "c99f86ec",
   "metadata": {},
   "outputs": [],
   "source": [
    "x = np.array([35, 45, 190, 200, 40, 70, 54, 150, 120, 110])\n",
    "y = np.array([401, 574, 874, 919, 459, 739, 653, 902, 746, 832])"
   ]
  },
  {
   "cell_type": "code",
   "execution_count": 21,
   "id": "236ee025",
   "metadata": {},
   "outputs": [
    {
     "data": {
      "text/plain": [
       "array([[ 35],\n",
       "       [ 45],\n",
       "       [190],\n",
       "       [200],\n",
       "       [ 40],\n",
       "       [ 70],\n",
       "       [ 54],\n",
       "       [150],\n",
       "       [120],\n",
       "       [110]])"
      ]
     },
     "execution_count": 21,
     "metadata": {},
     "output_type": "execute_result"
    }
   ],
   "source": [
    "model = LinearRegression()\n",
    "x_r = x.reshape(-1,1)\n",
    "x_r"
   ]
  },
  {
   "cell_type": "code",
   "execution_count": 22,
   "id": "f6bf2d4f",
   "metadata": {},
   "outputs": [
    {
     "data": {
      "text/plain": [
       "LinearRegression()"
      ]
     },
     "execution_count": 22,
     "metadata": {},
     "output_type": "execute_result"
    }
   ],
   "source": [
    "model.fit(x_r,y)"
   ]
  },
  {
   "cell_type": "code",
   "execution_count": 23,
   "id": "f36b7eb8",
   "metadata": {},
   "outputs": [
    {
     "data": {
      "text/plain": [
       "(444.1773573243596, array([2.62053888]))"
      ]
     },
     "execution_count": 23,
     "metadata": {},
     "output_type": "execute_result"
    }
   ],
   "source": [
    "model.intercept_, model.coef_"
   ]
  },
  {
   "cell_type": "code",
   "execution_count": 24,
   "id": "bc5e55e7",
   "metadata": {},
   "outputs": [
    {
     "data": {
      "text/plain": [
       "2.620538882402765"
      ]
     },
     "execution_count": 24,
     "metadata": {},
     "output_type": "execute_result"
    }
   ],
   "source": [
    "b1 = (np.mean(x*y) - np.mean(x)*np.mean(y))/(np.mean(x**2) - np.mean(x)**2)\n",
    "b1"
   ]
  },
  {
   "cell_type": "code",
   "execution_count": 25,
   "id": "4c2a3f9e",
   "metadata": {},
   "outputs": [
    {
     "data": {
      "text/plain": [
       "444.1773573243596"
      ]
     },
     "execution_count": 25,
     "metadata": {},
     "output_type": "execute_result"
    }
   ],
   "source": [
    "b0 = np.mean(y) - b1*np.mean(x)\n",
    "b0"
   ]
  },
  {
   "cell_type": "code",
   "execution_count": null,
   "id": "ba162c38",
   "metadata": {},
   "outputs": [],
   "source": []
  },
  {
   "cell_type": "code",
   "execution_count": 26,
   "id": "7895fe7b",
   "metadata": {},
   "outputs": [],
   "source": [
    "# Задача 2 Посчитать коэффициент линейной регрессии при заработной плате (zp), используя\n",
    "# градиентный спуск (без intercept)."
   ]
  },
  {
   "cell_type": "code",
   "execution_count": 30,
   "id": "0876c171",
   "metadata": {},
   "outputs": [
    {
     "name": "stdout",
     "output_type": "stream",
     "text": [
      "b1 = 0.25952808\n",
      "b1 = 0.414660650906144\n",
      "b1 = 0.5655188230595969\n",
      "b1 = 0.7122203698240712\n",
      "b1 = 0.8548798195302346\n",
      "b1 = 0.9936085448867542\n",
      "b1 = 1.1285148499277806\n",
      "b1 = 1.2597040545647504\n",
      "b1 = 1.387278576808517\n",
      "b1 = 1.5113380127259965\n"
     ]
    }
   ],
   "source": [
    "def mse_(b1, y=y, x=x, n=10):\n",
    "    return np.sum((b1*x - y)**2)/n\n",
    "\n",
    "alpha = 1e-6\n",
    "b1 = 0.1\n",
    "n = 10\n",
    "\n",
    "for i in range(10):\n",
    "    b1 -= alpha * (2/n) * np.sum ((b1 * x - y) * x)\n",
    "    print('b1 = {}'.format(b1))"
   ]
  },
  {
   "cell_type": "code",
   "execution_count": 33,
   "id": "02209725",
   "metadata": {},
   "outputs": [
    {
     "name": "stdout",
     "output_type": "stream",
     "text": [
      "Iteration = 0, b1 = 5.889820420132673, mse = 56516.85841571943\n",
      "Iteration = 500, b1 = 5.889820420132673, mse = 56516.85841571943\n",
      "Iteration = 1000, b1 = 5.889820420132673, mse = 56516.85841571943\n",
      "Iteration = 1500, b1 = 5.889820420132673, mse = 56516.85841571943\n",
      "Iteration = 2000, b1 = 5.889820420132673, mse = 56516.85841571943\n",
      "Iteration = 2500, b1 = 5.889820420132673, mse = 56516.85841571943\n"
     ]
    }
   ],
   "source": [
    "for i in range (3000):\n",
    "    b1 -= alpha * (2/n) * np.sum ((b1 * x - y) * x)\n",
    "    if i % 500 == 0:\n",
    "        print('Iteration = {i}, b1 = {b1}, mse = {mse}'.format(i=i, b1=b1, mse = mse_(b1)))"
   ]
  },
  {
   "cell_type": "code",
   "execution_count": 34,
   "id": "3bd185c9",
   "metadata": {},
   "outputs": [
    {
     "data": {
      "text/plain": [
       "56516.85841598858"
      ]
     },
     "execution_count": 34,
     "metadata": {},
     "output_type": "execute_result"
    }
   ],
   "source": [
    "mse_(5.889816)"
   ]
  },
  {
   "cell_type": "code",
   "execution_count": null,
   "id": "c60c6e6b",
   "metadata": {},
   "outputs": [],
   "source": []
  },
  {
   "cell_type": "code",
   "execution_count": 35,
   "id": "174c05df",
   "metadata": {},
   "outputs": [],
   "source": [
    "# Задача 3 (Дополнительно) Произвести вычисления как в пункте 2, но с вычислением intercept. Учесть, \n",
    "# что изменение коэффициентов должно производиться на каждом шаге одновременно (то есть изменение \n",
    "# одного коэффициента не должно влиять на изменение другого во время одной итерации)."
   ]
  },
  {
   "cell_type": "code",
   "execution_count": 41,
   "id": "2a0e8b24",
   "metadata": {},
   "outputs": [
    {
     "name": "stdout",
     "output_type": "stream",
     "text": [
      "b0 = 0.25511284968504\n",
      "b1 = 0.2595078\n",
      "b0 = 0.4059212538520911\n",
      "b1 = 0.4145891927991239\n",
      "b0 = 0.5525446626386173\n",
      "b1 = 0.5653670130218098\n",
      "b0 = 0.6950992113915297\n",
      "b1 = 0.7119606865810342\n",
      "b0 = 0.83369781265399\n",
      "b1 = 0.8544863252714594\n",
      "b0 = 0.9684502455995434\n",
      "b1 = 0.9930568187375836\n",
      "b0 = 1.099463242984417\n",
      "b1 = 1.1277819238897355\n",
      "b0 = 1.2268405756868568\n",
      "b1 = 1.2587683518387396\n",
      "b0 = 1.3506831349004609\n",
      "b1 = 1.386119852418107\n",
      "b0 = 1.4710890120466174\n",
      "b1 = 1.5099372963607027\n"
     ]
    }
   ],
   "source": [
    "def mse_(b0, b1, y=y, x=x, n=10):\n",
    "    return np.sum((b0 + b1*x - y)**2)/n\n",
    "\n",
    "alpha = 1e-6\n",
    "b0 = 0.1\n",
    "b1 = 0.1\n",
    "n = 10\n",
    "\n",
    "for i in range(10):\n",
    "    b1 -= alpha * (2/n) * np.sum ((b0 + b1 * x - y) * x)\n",
    "    b0 -= alpha * (2/n) * np.sum ((b0 + b1 * x - y) * x)\n",
    "    print('b0 = {}'.format(b0))\n",
    "    print('b1 = {}'.format(b1))"
   ]
  },
  {
   "cell_type": "code",
   "execution_count": 43,
   "id": "19ee41ac",
   "metadata": {},
   "outputs": [
    {
     "name": "stdout",
     "output_type": "stream",
     "text": [
      "Iteration = 0, b0 = 1.7019695509740187, b1 = 1.747359578924028, mse = 291112.62192948017\n",
      "Iteration = 500, b0 = 5.689566123497679, b1 = 5.847940271383139, mse = 55242.957872621366\n",
      "Iteration = 1000, b0 = 5.689569210913027, b1 = 5.847943446276973, mse = 55242.95718566049\n",
      "Iteration = 1500, b0 = 5.6895692109154, b1 = 5.847943446279413, mse = 55242.95718565994\n",
      "Iteration = 2000, b0 = 5.6895692109154, b1 = 5.847943446279413, mse = 55242.95718565994\n",
      "Iteration = 2500, b0 = 5.6895692109154, b1 = 5.847943446279413, mse = 55242.95718565994\n"
     ]
    }
   ],
   "source": [
    "for i in range (3000):\n",
    "    b1 -= alpha * (2/n) * np.sum ((b0 + b1 * x - y) * x)\n",
    "    b0 -= alpha * (2/n) * np.sum ((b0 + b1 * x - y) * x)\n",
    "    if i % 500 == 0:\n",
    "        print('Iteration = {i}, b0 = {b0}, b1 = {b1}, mse = {mse}'.format(i=i, b0=b0, b1=b1, mse = mse_(b0,b1)))"
   ]
  },
  {
   "cell_type": "code",
   "execution_count": 44,
   "id": "76f8eeb6",
   "metadata": {},
   "outputs": [
    {
     "data": {
      "text/plain": [
       "55242.95790011941"
      ]
     },
     "execution_count": 44,
     "metadata": {},
     "output_type": "execute_result"
    }
   ],
   "source": [
    "mse_(5.689566, 5.847940)"
   ]
  },
  {
   "cell_type": "code",
   "execution_count": null,
   "id": "ef497a85",
   "metadata": {},
   "outputs": [],
   "source": []
  }
 ],
 "metadata": {
  "kernelspec": {
   "display_name": "Python 3 (ipykernel)",
   "language": "python",
   "name": "python3"
  },
  "language_info": {
   "codemirror_mode": {
    "name": "ipython",
    "version": 3
   },
   "file_extension": ".py",
   "mimetype": "text/x-python",
   "name": "python",
   "nbconvert_exporter": "python",
   "pygments_lexer": "ipython3",
   "version": "3.9.13"
  }
 },
 "nbformat": 4,
 "nbformat_minor": 5
}
